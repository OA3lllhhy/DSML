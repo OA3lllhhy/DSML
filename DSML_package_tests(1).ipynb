{
 "cells": [
  {
   "cell_type": "markdown",
   "id": "da443c56",
   "metadata": {},
   "source": [
    "# Libraries for DSML Course\n",
    "\n",
    "Tests packages needed for DSML course. In some cases this illustrates some standard abreviations used for the packages or subpackages."
   ]
  },
  {
   "cell_type": "code",
   "execution_count": 2,
   "id": "c9d294b2",
   "metadata": {},
   "outputs": [
    {
     "name": "stdout",
     "output_type": "stream",
     "text": [
      "matplotlib version is 3.10.0\n"
     ]
    }
   ],
   "source": [
    "# matplotlib, other bits are used too, all weeks\n",
    "import matplotlib.pyplot as plt \n",
    "import matplotlib \n",
    "print(\"matplotlib version is \"+str(matplotlib.__version__))"
   ]
  },
  {
   "cell_type": "code",
   "execution_count": 3,
   "id": "0fc54bfd",
   "metadata": {},
   "outputs": [
    {
     "name": "stdout",
     "output_type": "stream",
     "text": [
      "numpy version is 2.2.0\n"
     ]
    }
   ],
   "source": [
    "# numpy, all weeks\n",
    "import numpy as np\n",
    "print(\"numpy version is \"+str(np.__version__))"
   ]
  },
  {
   "cell_type": "code",
   "execution_count": 4,
   "id": "5e90f0cd",
   "metadata": {},
   "outputs": [
    {
     "name": "stdout",
     "output_type": "stream",
     "text": [
      "scipy version is 1.14.1\n"
     ]
    }
   ],
   "source": [
    "# scipy, most weeks\n",
    "import scipy\n",
    "print(\"scipy version is \"+str(scipy.__version__))"
   ]
  },
  {
   "cell_type": "code",
   "execution_count": 5,
   "id": "cbe70a0d",
   "metadata": {},
   "outputs": [
    {
     "name": "stdout",
     "output_type": "stream",
     "text": [
      "sklearn version is 1.6.0\n"
     ]
    }
   ],
   "source": [
    "# sklearn, from week 5 onwards\n",
    "import sklearn\n",
    "print(\"sklearn version is \"+str(sklearn.__version__))"
   ]
  },
  {
   "cell_type": "code",
   "execution_count": 6,
   "id": "ebc15a6a",
   "metadata": {},
   "outputs": [
    {
     "name": "stdout",
     "output_type": "stream",
     "text": [
      "iminuit version is 2.2.3\n"
     ]
    }
   ],
   "source": [
    "# pandas, week 1\n",
    "import pandas as pd\n",
    "print(\"iminuit version is \"+str(pd.__version__))"
   ]
  },
  {
   "cell_type": "code",
   "execution_count": 7,
   "id": "4b3915fe",
   "metadata": {},
   "outputs": [
    {
     "name": "stdout",
     "output_type": "stream",
     "text": [
      "iminuit version is 2.30.1\n"
     ]
    }
   ],
   "source": [
    "# iminuit, week 4 \n",
    "import iminuit \n",
    "print(\"iminuit version is \"+str(iminuit.__version__))\n",
    "# next line needed as there is a problem running it\n",
    "from iminuit.cost import LeastSquares "
   ]
  },
  {
   "cell_type": "code",
   "execution_count": 8,
   "id": "850b2655",
   "metadata": {},
   "outputs": [
    {
     "name": "stdout",
     "output_type": "stream",
     "text": [
      "xgboost version is 2.1.3\n"
     ]
    }
   ],
   "source": [
    "# iminuit, week 8\n",
    "import xgboost \n",
    "print(\"xgboost version is \"+str(xgboost.__version__))"
   ]
  },
  {
   "cell_type": "code",
   "execution_count": 9,
   "id": "fe46582a",
   "metadata": {},
   "outputs": [
    {
     "name": "stdout",
     "output_type": "stream",
     "text": [
      "torch version is 2.5.1\n"
     ]
    }
   ],
   "source": [
    "# torch, week 9 and 10\n",
    "import torch \n",
    "print(\"torch version is \"+str(torch.__version__))"
   ]
  },
  {
   "cell_type": "code",
   "execution_count": 10,
   "id": "04b04d5f",
   "metadata": {},
   "outputs": [
    {
     "name": "stdout",
     "output_type": "stream",
     "text": [
      "torchvision version is 0.20.1\n"
     ]
    }
   ],
   "source": [
    "# torchvision, week 9 and 10\n",
    "import torchvision \n",
    "print(\"torchvision version is \"+str(torchvision.__version__))"
   ]
  }
 ],
 "metadata": {
  "kernelspec": {
   "display_name": ".venv",
   "language": "python",
   "name": "python3"
  },
  "language_info": {
   "codemirror_mode": {
    "name": "ipython",
    "version": 3
   },
   "file_extension": ".py",
   "mimetype": "text/x-python",
   "name": "python",
   "nbconvert_exporter": "python",
   "pygments_lexer": "ipython3",
   "version": "3.12.7"
  }
 },
 "nbformat": 4,
 "nbformat_minor": 5
}
